{
 "cells": [
  {
   "cell_type": "code",
   "execution_count": 24,
   "metadata": {
    "collapsed": false
   },
   "outputs": [],
   "source": [
    "import jsonrpclib\n",
    "from simplejson import loads\n",
    "from nltk import sent_tokenize,word_tokenize"
   ]
  },
  {
   "cell_type": "code",
   "execution_count": 14,
   "metadata": {
    "collapsed": false
   },
   "outputs": [],
   "source": [
    "server = jsonrpclib.Server(\"http://localhost:8080\")"
   ]
  },
  {
   "cell_type": "code",
   "execution_count": 15,
   "metadata": {
    "collapsed": false
   },
   "outputs": [],
   "source": [
    "string = \"Barack Obama is the president of the USA. He will leave the office this year.\"\n",
    "result = loads(server.parse(string))"
   ]
  },
  {
   "cell_type": "code",
   "execution_count": 16,
   "metadata": {
    "collapsed": false
   },
   "outputs": [
    {
     "name": "stdout",
     "output_type": "stream",
     "text": [
      "Barack Obama is the president of the USA. He will leave the office this year.\n",
      "[[[[u'the president of the USA', 0, 4, 3, 8], [u'Barack Obama', 0, 1, 0, 2]], [[u'He', 1, 0, 0, 1], [u'Barack Obama', 0, 1, 0, 2]]]]\n"
     ]
    }
   ],
   "source": [
    "print string\n",
    "print result['coref']"
   ]
  },
  {
   "cell_type": "code",
   "execution_count": 23,
   "metadata": {
    "collapsed": false
   },
   "outputs": [
    {
     "name": "stdout",
     "output_type": "stream",
     "text": [
      "<type 'unicode'>\n"
     ]
    }
   ],
   "source": [
    "import wikipedia as wk\n",
    "batman = wk.page('Batman')\n",
    "print type(batman.content)"
   ]
  },
  {
   "cell_type": "code",
   "execution_count": 53,
   "metadata": {
    "collapsed": true
   },
   "outputs": [],
   "source": [
    "sents = sent_tokenize(batman.content)"
   ]
  },
  {
   "cell_type": "code",
   "execution_count": 54,
   "metadata": {
    "collapsed": false
   },
   "outputs": [
    {
     "name": "stdout",
     "output_type": "stream",
     "text": [
      "Batman is a fictional superhero appearing in American comic books published by DC Comics.The character was created by artist Bob Kane and writer Bill Finger, and first appeared in Detective Comics #27 (May 1939).Originally named the \"Bat-Man\", the character is also referred to by such epithets as the Caped Crusader, the Dark Knight, and the World's Greatest Detective.Batman's secret identity is Bruce Wayne, an American billionaire, playboy, philanthropist, and owner of Wayne Enterprises.After witnessing the murder of his parents Thomas Wayne and Martha Wayne as a child, he swore revenge on criminals, an oath tempered by a sense of justice.Wayne trains himself physically and intellectually and crafts a bat-inspired persona to fight crime.Batman operates in the fictional Gotham City, with assistance from various supporting characters, including his butler Alfred, police commissioner Jim Gordon, and vigilante allies such as Robin.Unlike most superheroes, Batman does not possess any superpowers; rather, he relies on his genius intellect, physical prowess, martial arts abilities, detective skills, science and technology, vast wealth, intimidation, and indomitable will.A large assortment of villains make up Batman's rogues gallery, including his archenemy, the Joker.Batman became popular soon after his introduction in 1939 and gained his own comic book title, Batman, the following year.\n"
     ]
    }
   ],
   "source": [
    "string = ''\n",
    "for i in sents[0:10]:\n",
    "    string += i\n",
    "print string"
   ]
  },
  {
   "cell_type": "code",
   "execution_count": 55,
   "metadata": {
    "collapsed": false,
    "scrolled": true
   },
   "outputs": [],
   "source": [
    "result = loads(server.parse(string))\n",
    "coreferences = result['coref']"
   ]
  },
  {
   "cell_type": "code",
   "execution_count": 61,
   "metadata": {
    "collapsed": false
   },
   "outputs": [
    {
     "name": "stdout",
     "output_type": "stream",
     "text": [
      "***********************************\n",
      "Batman is referenced to Batman 's\n",
      "a fictional superhero appearing in American comic books published by DC Comics.The character is referenced to Batman 's\n",
      "Batman is referenced to Batman 's\n",
      "his is referenced to Batman 's\n",
      "Batman is referenced to Batman 's\n",
      "***********************************\n",
      "the character is referenced to DC Comics.The character\n",
      "***********************************\n",
      "he is referenced to the `` Bat-Man ''\n",
      "his is referenced to the `` Bat-Man ''\n",
      "his is referenced to the `` Bat-Man ''\n",
      "his is referenced to the `` Bat-Man ''\n",
      "***********************************\n",
      "the Caped Crusader , the Dark Knight , and the World 's Greatest Detective.Batman 's secret identity is referenced to Martha Wayne as a child\n",
      "Bruce Wayne , an American billionaire , playboy , philanthropist , and owner of Wayne Enterprises.After witnessing the murder of his parents Thomas Wayne and Martha Wayne as a child , he swore revenge on criminals , an oath tempered by a sense of justice.Wayne trains himself physically and intellectually and crafts a bat-inspired persona to fight crime.Batman operates in the fictional Gotham City , with assistance from various supporting characters , including his butler Alfred , police commissioner Jim Gordon is referenced to Martha Wayne as a child\n",
      "Thomas Wayne is referenced to Martha Wayne as a child\n",
      "***********************************\n",
      "Bruce Wayne is referenced to the Caped Crusader\n",
      "his is referenced to the Caped Crusader\n",
      "he is referenced to the Caped Crusader\n",
      "himself is referenced to the Caped Crusader\n",
      "his is referenced to the Caped Crusader\n",
      "***********************************\n",
      "science and technology is referenced to martial arts abilities\n"
     ]
    }
   ],
   "source": [
    "for chunk in coreferences:\n",
    "    print \"***********************************\"\n",
    "    for text in chunk:\n",
    "        print '{} is referenced to {}'.format(str(text[0][0]),str(text[1][0]))"
   ]
  },
  {
   "cell_type": "code",
   "execution_count": null,
   "metadata": {
    "collapsed": false,
    "scrolled": true
   },
   "outputs": [],
   "source": []
  },
  {
   "cell_type": "code",
   "execution_count": null,
   "metadata": {
    "collapsed": true
   },
   "outputs": [],
   "source": []
  }
 ],
 "metadata": {
  "kernelspec": {
   "display_name": "Python 2",
   "language": "python",
   "name": "python2"
  },
  "language_info": {
   "codemirror_mode": {
    "name": "ipython",
    "version": 2
   },
   "file_extension": ".py",
   "mimetype": "text/x-python",
   "name": "python",
   "nbconvert_exporter": "python",
   "pygments_lexer": "ipython2",
   "version": "2.7.11"
  }
 },
 "nbformat": 4,
 "nbformat_minor": 0
}
