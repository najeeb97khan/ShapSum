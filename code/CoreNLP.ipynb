{
 "cells": [
  {
   "cell_type": "markdown",
   "metadata": {},
   "source": [
    "# Stanford CoreNLP Coreference Resolution"
   ]
  },
  {
   "cell_type": "markdown",
   "metadata": {},
   "source": [
    "### Before running this script\n",
    "Run requirements.sh before running this script as it requires the coreNLP server to be up and running."
   ]
  },
  {
   "cell_type": "code",
   "execution_count": 1,
   "metadata": {
    "collapsed": false
   },
   "outputs": [],
   "source": [
    "import jsonrpclib\n",
    "from simplejson import loads\n",
    "from nltk import sent_tokenize,word_tokenize"
   ]
  },
  {
   "cell_type": "code",
   "execution_count": 17,
   "metadata": {
    "collapsed": false
   },
   "outputs": [],
   "source": [
    "server = jsonrpclib.Server(\"http://localhost:8080\")"
   ]
  },
  {
   "cell_type": "code",
   "execution_count": 19,
   "metadata": {
    "collapsed": false
   },
   "outputs": [],
   "source": [
    "string = \"Barack Obama is the president of the USA. He will leave the office this year.\"\n",
    "result = loads(server.parse(string))"
   ]
  },
  {
   "cell_type": "code",
   "execution_count": 20,
   "metadata": {
    "collapsed": false
   },
   "outputs": [
    {
     "name": "stdout",
     "output_type": "stream",
     "text": [
      "Barack Obama is the president of the USA. He will leave the office this year.\n",
      "[[[[u'the president of the USA', 0, 4, 3, 8], [u'Barack Obama', 0, 1, 0, 2]], [[u'He', 1, 0, 0, 1], [u'Barack Obama', 0, 1, 0, 2]]]]\n"
     ]
    }
   ],
   "source": [
    "print string\n",
    "print result['coref']"
   ]
  },
  {
   "cell_type": "code",
   "execution_count": 34,
   "metadata": {
    "collapsed": false
   },
   "outputs": [
    {
     "name": "stdout",
     "output_type": "stream",
     "text": [
      "<type 'unicode'>\n"
     ]
    }
   ],
   "source": [
    "import wikipedia as wk\n",
    "batman = wk.page('Batman')\n",
    "print type(batman.content)"
   ]
  },
  {
   "cell_type": "code",
   "execution_count": 35,
   "metadata": {
    "collapsed": true
   },
   "outputs": [],
   "source": [
    "sents = sent_tokenize(batman.content)"
   ]
  },
  {
   "cell_type": "code",
   "execution_count": 36,
   "metadata": {
    "collapsed": false
   },
   "outputs": [
    {
     "name": "stdout",
     "output_type": "stream",
     "text": [
      "Batman is a fictional superhero appearing in American comic books published by DC Comics.The character was created by artist Bob Kane and writer Bill Finger, and first appeared in Detective Comics #27 (May 1939).Originally named the \"Bat-Man\", the character is also referred to by such epithets as the Caped Crusader, the Dark Knight, and the World's Greatest Detective.Batman's secret identity is Bruce Wayne, an American billionaire, playboy, philanthropist, and owner of Wayne Enterprises.After witnessing the murder of his parents Thomas Wayne and Martha Wayne as a child, he swore revenge on criminals, an oath tempered by a sense of justice.Wayne trains himself physically and intellectually and crafts a bat-inspired persona to fight crime.Batman operates in the fictional Gotham City, with assistance from various supporting characters, including his butler Alfred, police commissioner Jim Gordon, and vigilante allies such as Robin.Unlike most superheroes, Batman does not possess any superpowers; rather, he relies on his genius intellect, physical prowess, martial arts abilities, detective skills, science and technology, vast wealth, intimidation, and indomitable will.A large assortment of villains make up Batman's rogues gallery, including his archenemy, the Joker.Batman became popular soon after his introduction in 1939 and gained his own comic book title, Batman, the following year.\n"
     ]
    }
   ],
   "source": [
    "string = ''\n",
    "for i in sents[0:10]:\n",
    "    string += i\n",
    "print string"
   ]
  },
  {
   "cell_type": "code",
   "execution_count": 25,
   "metadata": {
    "collapsed": false,
    "scrolled": true
   },
   "outputs": [],
   "source": [
    "result = loads(server.parse(string))\n",
    "coreferences = result['coref']"
   ]
  },
  {
   "cell_type": "code",
   "execution_count": 26,
   "metadata": {
    "collapsed": false
   },
   "outputs": [
    {
     "name": "stdout",
     "output_type": "stream",
     "text": [
      "***********************************\n",
      "Batman is referenced to Batman 's\n",
      "a fictional superhero appearing in American comic books published by DC Comics.The character is referenced to Batman 's\n",
      "Batman is referenced to Batman 's\n",
      "his is referenced to Batman 's\n",
      "Batman is referenced to Batman 's\n",
      "***********************************\n",
      "the character is referenced to DC Comics.The character\n",
      "***********************************\n",
      "he is referenced to the `` Bat-Man ''\n",
      "his is referenced to the `` Bat-Man ''\n",
      "his is referenced to the `` Bat-Man ''\n",
      "his is referenced to the `` Bat-Man ''\n",
      "***********************************\n",
      "the Caped Crusader , the Dark Knight , and the World 's Greatest Detective.Batman 's secret identity is referenced to Martha Wayne as a child\n",
      "Bruce Wayne , an American billionaire , playboy , philanthropist , and owner of Wayne Enterprises.After witnessing the murder of his parents Thomas Wayne and Martha Wayne as a child , he swore revenge on criminals , an oath tempered by a sense of justice.Wayne trains himself physically and intellectually and crafts a bat-inspired persona to fight crime.Batman operates in the fictional Gotham City , with assistance from various supporting characters , including his butler Alfred , police commissioner Jim Gordon is referenced to Martha Wayne as a child\n",
      "Thomas Wayne is referenced to Martha Wayne as a child\n",
      "***********************************\n",
      "Bruce Wayne is referenced to the Caped Crusader\n",
      "his is referenced to the Caped Crusader\n",
      "he is referenced to the Caped Crusader\n",
      "himself is referenced to the Caped Crusader\n",
      "his is referenced to the Caped Crusader\n",
      "***********************************\n",
      "science and technology is referenced to martial arts abilities\n"
     ]
    }
   ],
   "source": [
    "for chunk in coreferences:\n",
    "    print \"***********************************\"\n",
    "    for text in chunk:\n",
    "        print '{} is referenced to {}'.format(str(text[0][0]),str(text[1][0]))"
   ]
  },
  {
   "cell_type": "code",
   "execution_count": 38,
   "metadata": {
    "collapsed": false,
    "scrolled": true
   },
   "outputs": [
    {
     "name": "stdout",
     "output_type": "stream",
     "text": [
      "Batman is a fictional superhero appearing in American comic books published by DC Comics.The character was created by artist Bob Kane and writer Bill Finger, and first appeared in Detective Comics #27 (May 1939)\n",
      "Coreference doesnt exists\n",
      "Batman is a fictional superhero appearing in American comic books published by DC Comics.Originally named the \"Bat-Man\", the character is also referred to by such epithets as the Caped Crusader, the Dark Knight, and the World's Greatest Detective\n",
      "[[[[u\"a fictional superhero appearing in American comic books published by DC Comics.Originally named the `` Bat-Man '' , the character is also referred to by such epithets as the Caped Crusader , the Dark Knight , and the World 's Greatest Detective\", 0, 4, 2, 44], [u'Batman', 0, 0, 0, 1]]], [[[u'the character', 0, 21, 20, 22], [u\"the `` Bat-Man ''\", 0, 17, 15, 19]]]]\n",
      "**************************************************\n",
      "Batman is a fictional superhero appearing in American comic books published by DC Comics.Batman's secret identity is Bruce Wayne, an American billionaire, playboy, philanthropist, and owner of Wayne Enterprises\n",
      "[[[[u\"a fictional superhero appearing in American comic books published by DC Comics.Batman 's secret identity is Bruce Wayne , an American billionaire , playboy , philanthropist , and owner of Wayne Enterprises\", 0, 4, 2, 34], [u'Batman', 0, 0, 0, 1]]]]\n",
      "**************************************************\n",
      "Batman is a fictional superhero appearing in American comic books published by DC Comics.After witnessing the murder of his parents Thomas Wayne and Martha Wayne as a child, he swore revenge on criminals, an oath tempered by a sense of justice\n",
      "[[[[u'a fictional superhero appearing in American comic books published by DC Comics.After witnessing the murder of his parents Thomas Wayne and Martha Wayne as a child , he swore revenge on criminals , an oath tempered by a sense of justice', 0, 4, 2, 43], [u'Batman', 0, 0, 0, 1]], [[u'his', 0, 18, 18, 19], [u'Batman', 0, 0, 0, 1]], [[u'he', 0, 29, 29, 30], [u'Batman', 0, 0, 0, 1]]]]\n",
      "**************************************************\n",
      "Batman is a fictional superhero appearing in American comic books published by DC Comics.Wayne trains himself physically and intellectually and crafts a bat-inspired persona to fight crime\n",
      "[[[[u'himself physically', 0, 15, 15, 17], [u'Batman', 0, 0, 0, 1]]]]\n",
      "**************************************************\n",
      "Batman is a fictional superhero appearing in American comic books published by DC Comics.Batman operates in the fictional Gotham City, with assistance from various supporting characters, including his butler Alfred, police commissioner Jim Gordon, and vigilante allies such as Robin\n",
      "[[[[u'a fictional superhero appearing in American comic books published by DC Comics.Batman operates in the fictional Gotham City , with assistance from various supporting characters , including his butler Alfred , police commissioner Jim Gordon , and vigilante allies such as Robin', 0, 4, 2, 44], [u'Batman', 0, 0, 0, 1]], [[u'his', 0, 29, 29, 30], [u'Batman', 0, 0, 0, 1]]]]\n",
      "**************************************************\n",
      "Batman is a fictional superhero appearing in American comic books published by DC Comics.Unlike most superheroes, Batman does not possess any superpowers; rather, he relies on his genius intellect, physical prowess, martial arts abilities, detective skills, science and technology, vast wealth, intimidation, and indomitable will\n",
      "[[[[u'a fictional superhero appearing in American comic books published by DC Comics.Unlike most superheroes', 0, 4, 2, 16], [u'Batman', 0, 0, 0, 1]], [[u'Batman', 0, 17, 17, 18], [u'Batman', 0, 0, 0, 1]], [[u'he', 0, 26, 26, 27], [u'Batman', 0, 0, 0, 1]], [[u'his', 0, 29, 29, 30], [u'Batman', 0, 0, 0, 1]]], [[[u'science and technology', 0, 43, 43, 46], [u'martial arts abilities', 0, 38, 36, 39]]]]\n",
      "**************************************************\n",
      "Batman is a fictional superhero appearing in American comic books published by DC Comics.A large assortment of villains make up Batman's rogues gallery, including his archenemy, the Joker\n",
      "[[[[u'Batman', 0, 0, 0, 1], [u\"Batman 's\", 0, 20, 20, 22]], [[u'a fictional superhero appearing in American comic books published by DC Comics.A large assortment of villains', 0, 4, 2, 18], [u\"Batman 's\", 0, 20, 20, 22]], [[u'his', 0, 26, 26, 27], [u\"Batman 's\", 0, 20, 20, 22]]]]\n",
      "**************************************************\n",
      "Batman is a fictional superhero appearing in American comic books published by DC Comics.Batman became popular soon after his introduction in 1939 and gained his own comic book title, Batman, the following year\n",
      "[[[[u'a fictional superhero appearing in American comic books published by DC Comics.Batman became popular soon after his introduction in 1939 and gained his own comic book title , Batman , the following year', 0, 4, 2, 35], [u'Batman', 0, 0, 0, 1]], [[u'his', 0, 18, 18, 19], [u'Batman', 0, 0, 0, 1]], [[u'his', 0, 24, 24, 25], [u'Batman', 0, 0, 0, 1]], [[u'Batman', 0, 30, 30, 31], [u'Batman', 0, 0, 0, 1]]]]\n",
      "**************************************************\n",
      "Batman is a fictional superhero appearing in American comic books published by DC Comics.\n",
      "[[[[u'a fictional superhero appearing in American comic books published by DC Comics', 0, 4, 2, 14], [u'Batman', 0, 0, 0, 1]]]]\n",
      "**************************************************\n",
      "The character was created by artist Bob Kane and writer Bill Finger, and first appeared in Detective Comics #27 (May 1939).The character was created by artist Bob Kane and writer Bill Finger, and first appeared in Detective Comics #27 (May 1939)\n",
      "[[[[u'Bob Kane', 1, 7, 6, 8], [u'Bob Kane', 0, 7, 6, 8]]], [[[u'Bill Finger', 1, 11, 10, 12], [u'Bill Finger', 0, 11, 10, 12]]], [[[u'first', 1, 14, 14, 15], [u'first', 0, 14, 14, 15]]], [[[u'The character', 1, 1, 0, 2], [u'The character', 0, 1, 0, 2]]], [[[u'artist Bob Kane and writer Bill Finger', 1, 7, 5, 12], [u'artist Bob Kane and writer Bill Finger', 0, 7, 5, 12]]], [[[u'artist Bob Kane', 1, 7, 5, 8], [u'artist Bob Kane', 0, 7, 5, 8]]], [[[u'writer Bill Finger', 1, 11, 9, 12], [u'writer Bill Finger', 0, 11, 9, 12]]], [[[u'May 1939', 1, 22, 22, 24], [u'May 1939', 0, 22, 22, 24]]]]\n",
      "**************************************************\n",
      "The character was created by artist Bob Kane and writer Bill Finger, and first appeared in Detective Comics #27 (May 1939).Originally named the \"Bat-Man\", the character is also referred to by such epithets as the Caped Crusader, the Dark Knight, and the World's Greatest Detective\n",
      "[[[[u'the character', 1, 8, 7, 9], [u'The character', 0, 1, 0, 2]]]]\n",
      "**************************************************\n",
      "The character was created by artist Bob Kane and writer Bill Finger, and first appeared in Detective Comics #27 (May 1939).Batman's secret identity is Bruce Wayne, an American billionaire, playboy, philanthropist, and owner of Wayne Enterprises\n",
      "Coreference doesnt exists\n",
      "The character was created by artist Bob Kane and writer Bill Finger, and first appeared in Detective Comics #27 (May 1939).After witnessing the murder of his parents Thomas Wayne and Martha Wayne as a child, he swore revenge on criminals, an oath tempered by a sense of justice\n",
      "[[[[u'his', 1, 5, 5, 6], [u'The character', 0, 1, 0, 2]], [[u'he', 1, 16, 16, 17], [u'The character', 0, 1, 0, 2]]]]\n",
      "**************************************************\n",
      "The character was created by artist Bob Kane and writer Bill Finger, and first appeared in Detective Comics #27 (May 1939).Wayne trains himself physically and intellectually and crafts a bat-inspired persona to fight crime\n",
      "[[[[u'himself', 1, 2, 2, 3], [u'Wayne', 1, 0, 0, 1]]]]\n",
      "**************************************************\n",
      "The character was created by artist Bob Kane and writer Bill Finger, and first appeared in Detective Comics #27 (May 1939).Batman operates in the fictional Gotham City, with assistance from various supporting characters, including his butler Alfred, police commissioner Jim Gordon, and vigilante allies such as Robin\n",
      "[[[[u'his', 1, 16, 16, 17], [u'Batman', 1, 0, 0, 1]]]]\n",
      "**************************************************\n",
      "The character was created by artist Bob Kane and writer Bill Finger, and first appeared in Detective Comics #27 (May 1939).Unlike most superheroes, Batman does not possess any superpowers; rather, he relies on his genius intellect, physical prowess, martial arts abilities, detective skills, science and technology, vast wealth, intimidation, and indomitable will\n",
      "[[[[u'he', 1, 13, 13, 14], [u'Batman', 1, 4, 4, 5]], [[u'his', 1, 16, 16, 17], [u'Batman', 1, 4, 4, 5]]], [[[u'science and technology', 1, 30, 30, 33], [u'martial arts abilities', 1, 25, 23, 26]]]]\n",
      "**************************************************\n",
      "The character was created by artist Bob Kane and writer Bill Finger, and first appeared in Detective Comics #27 (May 1939).A large assortment of villains make up Batman's rogues gallery, including his archenemy, the Joker\n",
      "[[[[u'his', 1, 13, 13, 14], [u\"Batman 's\", 1, 7, 7, 9]]], [[[u'his archenemy', 1, 14, 13, 15], [u'the Joker', 1, 17, 16, 18]]]]\n",
      "**************************************************\n",
      "The character was created by artist Bob Kane and writer Bill Finger, and first appeared in Detective Comics #27 (May 1939).Batman became popular soon after his introduction in 1939 and gained his own comic book title, Batman, the following year\n",
      "[[[[u'his', 1, 5, 5, 6], [u'Batman', 1, 0, 0, 1]], [[u'his', 1, 11, 11, 12], [u'Batman', 1, 0, 0, 1]], [[u'Batman', 1, 17, 17, 18], [u'Batman', 1, 0, 0, 1]]]]\n",
      "**************************************************\n",
      "The character was created by artist Bob Kane and writer Bill Finger, and first appeared in Detective Comics #27 (May 1939).\n",
      "Coreference doesnt exists\n",
      "Originally named the \"Bat-Man\", the character is also referred to by such epithets as the Caped Crusader, the Dark Knight, and the World's Greatest Detective.The character was created by artist Bob Kane and writer Bill Finger, and first appeared in Detective Comics #27 (May 1939)\n",
      "Coreference doesnt exists\n",
      "Originally named the \"Bat-Man\", the character is also referred to by such epithets as the Caped Crusader, the Dark Knight, and the World's Greatest Detective.Originally named the \"Bat-Man\", the character is also referred to by such epithets as the Caped Crusader, the Dark Knight, and the World's Greatest Detective\n",
      "[[[[u\"the `` Bat-Man ''\", 0, 4, 2, 6], [u\"the `` Bat-Man '' , the character\", 0, 34, 32, 39]], [[u\"the `` Bat-Man ''\", 0, 34, 32, 36], [u\"the `` Bat-Man '' , the character\", 0, 34, 32, 39]]], [[[u'the character', 0, 38, 37, 39], [u'the character', 0, 8, 7, 9]]], [[[u'the Caped Crusader', 0, 49, 47, 50], [u'the Caped Crusader', 0, 19, 17, 20]]], [[[u'the Dark Knight', 0, 53, 51, 54], [u'the Dark Knight', 0, 23, 21, 24]]], [[[u\"the World 's\", 0, 27, 26, 29], [u\"World 's Greatest\", 0, 29, 27, 30]], [[u\"the World 's\", 0, 57, 56, 59], [u\"World 's Greatest\", 0, 29, 27, 30]]]]\n",
      "**************************************************\n",
      "Originally named the \"Bat-Man\", the character is also referred to by such epithets as the Caped Crusader, the Dark Knight, and the World's Greatest Detective.Batman's secret identity is Bruce Wayne, an American billionaire, playboy, philanthropist, and owner of Wayne Enterprises\n",
      "[[[[u'Bruce Wayne , an American billionaire , playboy , philanthropist , and owner of Wayne Enterprises', 0, 36, 35, 51], [u\"the Caped Crusader , the Dark Knight , and the World 's Greatest Detective.Batman 's secret identity\", 0, 19, 17, 34]]], [[[u'Bruce Wayne', 0, 36, 35, 37], [u'the Caped Crusader', 0, 19, 17, 20]]]]\n",
      "**************************************************\n",
      "Originally named the \"Bat-Man\", the character is also referred to by such epithets as the Caped Crusader, the Dark Knight, and the World's Greatest Detective.After witnessing the murder of his parents Thomas Wayne and Martha Wayne as a child, he swore revenge on criminals, an oath tempered by a sense of justice\n",
      "[[[[u\"World 's Greatest\", 0, 27, 27, 30], [u\"the World 's\", 0, 27, 26, 29]]], [[[u'his', 0, 35, 35, 36], [u\"the `` Bat-Man ''\", 0, 4, 2, 6]]], [[[u'he', 0, 46, 46, 47], [u'the character', 0, 8, 7, 9]]]]\n",
      "**************************************************\n",
      "Originally named the \"Bat-Man\", the character is also referred to by such epithets as the Caped Crusader, the Dark Knight, and the World's Greatest Detective.Wayne trains himself physically and intellectually and crafts a bat-inspired persona to fight crime\n",
      "[[[[u\"World 's Greatest\", 0, 27, 27, 30], [u\"the World 's\", 0, 27, 26, 29]]], [[[u'himself', 0, 32, 32, 33], [u'the Caped Crusader', 0, 19, 17, 20]]]]\n",
      "**************************************************\n",
      "Originally named the \"Bat-Man\", the character is also referred to by such epithets as the Caped Crusader, the Dark Knight, and the World's Greatest Detective.Batman operates in the fictional Gotham City, with assistance from various supporting characters, including his butler Alfred, police commissioner Jim Gordon, and vigilante allies such as Robin\n",
      "[[[[u'his', 0, 46, 46, 47], [u\"the `` Bat-Man ''\", 0, 4, 2, 6]]]]\n",
      "**************************************************\n",
      "Originally named the \"Bat-Man\", the character is also referred to by such epithets as the Caped Crusader, the Dark Knight, and the World's Greatest Detective.Unlike most superheroes, Batman does not possess any superpowers; rather, he relies on his genius intellect, physical prowess, martial arts abilities, detective skills, science and technology, vast wealth, intimidation, and indomitable will\n",
      "[[[[u'he', 0, 43, 43, 44], [u\"the `` Bat-Man ''\", 0, 4, 2, 6]], [[u'his', 0, 46, 46, 47], [u\"the `` Bat-Man ''\", 0, 4, 2, 6]]], [[[u'science and technology', 0, 60, 60, 63], [u'martial arts abilities', 0, 55, 53, 56]]]]\n",
      "**************************************************\n",
      "Originally named the \"Bat-Man\", the character is also referred to by such epithets as the Caped Crusader, the Dark Knight, and the World's Greatest Detective.A large assortment of villains make up Batman's rogues gallery, including his archenemy, the Joker\n",
      "[[[[u'his', 0, 43, 43, 44], [u\"the `` Bat-Man ''\", 0, 4, 2, 6]]]]\n",
      "**************************************************\n",
      "Originally named the \"Bat-Man\", the character is also referred to by such epithets as the Caped Crusader, the Dark Knight, and the World's Greatest Detective.Batman became popular soon after his introduction in 1939 and gained his own comic book title, Batman, the following year\n",
      "[[[[u'his', 0, 35, 35, 36], [u\"the World 's Greatest Detective.Batman\", 0, 30, 26, 31]], [[u'his', 0, 41, 41, 42], [u\"the World 's Greatest Detective.Batman\", 0, 30, 26, 31]]]]\n",
      "**************************************************\n",
      "Originally named the \"Bat-Man\", the character is also referred to by such epithets as the Caped Crusader, the Dark Knight, and the World's Greatest Detective.\n",
      "Coreference doesnt exists\n",
      "Batman's secret identity is Bruce Wayne, an American billionaire, playboy, philanthropist, and owner of Wayne Enterprises.The character was created by artist Bob Kane and writer Bill Finger, and first appeared in Detective Comics #27 (May 1939)\n",
      "[[[[u'Wayne', 0, 19, 19, 20], [u'Bruce Wayne', 0, 6, 5, 7]]]]\n",
      "**************************************************\n",
      "Batman's secret identity is Bruce Wayne, an American billionaire, playboy, philanthropist, and owner of Wayne Enterprises.Originally named the \"Bat-Man\", the character is also referred to by such epithets as the Caped Crusader, the Dark Knight, and the World's Greatest Detective\n",
      "[[[[u'Wayne Enterprises.Originally', 0, 20, 19, 21], [u'Bruce Wayne', 0, 6, 5, 7]]]]\n",
      "**************************************************\n",
      "Batman's secret identity is Bruce Wayne, an American billionaire, playboy, philanthropist, and owner of Wayne Enterprises.Batman's secret identity is Bruce Wayne, an American billionaire, playboy, philanthropist, and owner of Wayne Enterprises\n",
      "[[[[u'Bruce Wayne', 0, 6, 5, 7], [u\"Wayne Enterprises.Batman 's\", 0, 20, 19, 22]], [[u'Bruce Wayne', 0, 26, 25, 27], [u\"Wayne Enterprises.Batman 's\", 0, 20, 19, 22]]], [[[u'an American billionaire', 0, 30, 28, 31], [u'an American billionaire', 0, 10, 8, 11]]], [[[u\"playboy , philanthropist , and owner of Wayne Enterprises.Batman 's secret identity\", 0, 12, 12, 24], [u'Bruce Wayne , an American billionaire , playboy , philanthropist , and owner of Wayne Enterprises', 0, 26, 25, 41]]]]\n",
      "**************************************************\n",
      "Batman's secret identity is Bruce Wayne, an American billionaire, playboy, philanthropist, and owner of Wayne Enterprises.After witnessing the murder of his parents Thomas Wayne and Martha Wayne as a child, he swore revenge on criminals, an oath tempered by a sense of justice\n",
      "[[[[u'his', 0, 25, 25, 26], [u\"Batman 's\", 0, 0, 0, 2]], [[u'he', 0, 36, 36, 37], [u\"Batman 's\", 0, 0, 0, 2]]]]\n",
      "**************************************************\n",
      "Batman's secret identity is Bruce Wayne, an American billionaire, playboy, philanthropist, and owner of Wayne Enterprises.Wayne trains himself physically and intellectually and crafts a bat-inspired persona to fight crime\n",
      "[[[[u'Wayne Enterprises.Wayne', 0, 20, 19, 21], [u'Bruce Wayne', 0, 6, 5, 7]], [[u'himself', 0, 22, 22, 23], [u'Bruce Wayne', 0, 6, 5, 7]]]]\n",
      "**************************************************\n",
      "Batman's secret identity is Bruce Wayne, an American billionaire, playboy, philanthropist, and owner of Wayne Enterprises.Batman operates in the fictional Gotham City, with assistance from various supporting characters, including his butler Alfred, police commissioner Jim Gordon, and vigilante allies such as Robin\n",
      "[[[[u'his', 0, 36, 36, 37], [u\"Batman 's\", 0, 0, 0, 2]]]]\n",
      "**************************************************\n",
      "Batman's secret identity is Bruce Wayne, an American billionaire, playboy, philanthropist, and owner of Wayne Enterprises.Unlike most superheroes, Batman does not possess any superpowers; rather, he relies on his genius intellect, physical prowess, martial arts abilities, detective skills, science and technology, vast wealth, intimidation, and indomitable will\n",
      "[[[[u'Batman', 0, 24, 24, 25], [u\"Batman 's\", 0, 0, 0, 2]], [[u'he', 0, 33, 33, 34], [u\"Batman 's\", 0, 0, 0, 2]], [[u'his', 0, 36, 36, 37], [u\"Batman 's\", 0, 0, 0, 2]]], [[[u'an American billionaire', 0, 10, 8, 11], [u'Bruce Wayne', 0, 6, 5, 7]], [[u'Wayne Enterprises.Unlike', 0, 20, 19, 21], [u'Bruce Wayne', 0, 6, 5, 7]]], [[[u'science and technology', 0, 50, 50, 53], [u'martial arts abilities', 0, 45, 43, 46]]]]\n",
      "**************************************************\n",
      "Batman's secret identity is Bruce Wayne, an American billionaire, playboy, philanthropist, and owner of Wayne Enterprises.A large assortment of villains make up Batman's rogues gallery, including his archenemy, the Joker\n",
      "[[[[u\"Batman 's\", 0, 27, 27, 29], [u\"Batman 's\", 0, 0, 0, 2]], [[u'his', 0, 33, 33, 34], [u\"Batman 's\", 0, 0, 0, 2]]], [[[u'Wayne', 0, 19, 19, 20], [u'Bruce Wayne', 0, 6, 5, 7]]]]\n",
      "**************************************************\n",
      "Batman's secret identity is Bruce Wayne, an American billionaire, playboy, philanthropist, and owner of Wayne Enterprises.Batman became popular soon after his introduction in 1939 and gained his own comic book title, Batman, the following year\n",
      "[[[[u'Batman', 0, 37, 37, 38], [u\"Batman 's\", 0, 0, 0, 2]]], [[[u'Wayne Enterprises.Batman', 0, 20, 19, 21], [u'Bruce Wayne', 0, 6, 5, 7]], [[u'his', 0, 25, 25, 26], [u'Bruce Wayne', 0, 6, 5, 7]], [[u'his', 0, 31, 31, 32], [u'Bruce Wayne', 0, 6, 5, 7]]]]\n",
      "**************************************************\n",
      "Batman's secret identity is Bruce Wayne, an American billionaire, playboy, philanthropist, and owner of Wayne Enterprises.\n",
      "Coreference doesnt exists\n",
      "After witnessing the murder of his parents Thomas Wayne and Martha Wayne as a child, he swore revenge on criminals, an oath tempered by a sense of justice.The character was created by artist Bob Kane and writer Bill Finger, and first appeared in Detective Comics #27 (May 1939)\n",
      "[[[[u'he', 0, 16, 16, 17], [u'his', 0, 5, 5, 6]]]]\n",
      "**************************************************\n",
      "After witnessing the murder of his parents Thomas Wayne and Martha Wayne as a child, he swore revenge on criminals, an oath tempered by a sense of justice.Originally named the \"Bat-Man\", the character is also referred to by such epithets as the Caped Crusader, the Dark Knight, and the World's Greatest Detective\n",
      "[[[[u'he', 0, 16, 16, 17], [u'his', 0, 5, 5, 6]]]]\n",
      "**************************************************\n",
      "After witnessing the murder of his parents Thomas Wayne and Martha Wayne as a child, he swore revenge on criminals, an oath tempered by a sense of justice.Batman's secret identity is Bruce Wayne, an American billionaire, playboy, philanthropist, and owner of Wayne Enterprises\n",
      "[[[[u'he', 0, 16, 16, 17], [u'his', 0, 5, 5, 6]]]]\n",
      "**************************************************\n",
      "After witnessing the murder of his parents Thomas Wayne and Martha Wayne as a child, he swore revenge on criminals, an oath tempered by a sense of justice.After witnessing the murder of his parents Thomas Wayne and Martha Wayne as a child, he swore revenge on criminals, an oath tempered by a sense of justice\n",
      "[[[[u'Thomas Wayne', 0, 37, 36, 38], [u'Thomas Wayne', 0, 8, 7, 9]]], [[[u'the murder of his parents Thomas Wayne and Martha Wayne as a child', 0, 32, 31, 44], [u'the murder of his parents Thomas Wayne and Martha Wayne as a child', 0, 3, 2, 15]]], [[[u'his parents Thomas Wayne and Martha Wayne as a child', 0, 35, 34, 44], [u'his parents Thomas Wayne and Martha Wayne as a child', 0, 6, 5, 15]]], [[[u'his parents Thomas Wayne', 0, 35, 34, 38], [u'his parents Thomas Wayne', 0, 6, 5, 9]]], [[[u'he', 0, 16, 16, 17], [u'his', 0, 5, 5, 6]], [[u'his', 0, 34, 34, 35], [u'his', 0, 5, 5, 6]], [[u'he', 0, 45, 45, 46], [u'his', 0, 5, 5, 6]]], [[[u'Martha Wayne as a child', 0, 40, 39, 44], [u'Martha Wayne as a child', 0, 11, 10, 15]]], [[[u'a child', 0, 43, 42, 44], [u'a child', 0, 14, 13, 15]]], [[[u'criminals', 0, 20, 20, 21], [u'criminals , an oath tempered by a sense of justice.After witnessing the murder of his parents Thomas Wayne and Martha Wayne as a child', 0, 20, 20, 44]], [[u'criminals , an oath tempered by a sense of justice', 0, 49, 49, 59], [u'criminals , an oath tempered by a sense of justice.After witnessing the murder of his parents Thomas Wayne and Martha Wayne as a child', 0, 20, 20, 44]], [[u'criminals', 0, 49, 49, 50], [u'criminals , an oath tempered by a sense of justice.After witnessing the murder of his parents Thomas Wayne and Martha Wayne as a child', 0, 20, 20, 44]]]]\n",
      "**************************************************\n",
      "After witnessing the murder of his parents Thomas Wayne and Martha Wayne as a child, he swore revenge on criminals, an oath tempered by a sense of justice.Wayne trains himself physically and intellectually and crafts a bat-inspired persona to fight crime\n",
      "[[[[u'he', 0, 16, 16, 17], [u'his', 0, 5, 5, 6]], [[u'himself', 0, 31, 31, 32], [u'his', 0, 5, 5, 6]]]]\n",
      "**************************************************\n",
      "After witnessing the murder of his parents Thomas Wayne and Martha Wayne as a child, he swore revenge on criminals, an oath tempered by a sense of justice.Batman operates in the fictional Gotham City, with assistance from various supporting characters, including his butler Alfred, police commissioner Jim Gordon, and vigilante allies such as Robin\n",
      "[[[[u'his', 0, 45, 45, 46], [u'Alfred', 0, 47, 47, 48]]], [[[u'he', 0, 16, 16, 17], [u'his', 0, 5, 5, 6]]]]\n",
      "**************************************************\n",
      "After witnessing the murder of his parents Thomas Wayne and Martha Wayne as a child, he swore revenge on criminals, an oath tempered by a sense of justice.Unlike most superheroes, Batman does not possess any superpowers; rather, he relies on his genius intellect, physical prowess, martial arts abilities, detective skills, science and technology, vast wealth, intimidation, and indomitable will\n",
      "[[[[u'he', 0, 16, 16, 17], [u'his', 0, 5, 5, 6]], [[u'he', 0, 42, 42, 43], [u'his', 0, 5, 5, 6]], [[u'his', 0, 45, 45, 46], [u'his', 0, 5, 5, 6]]], [[[u'science and technology', 0, 59, 59, 62], [u'martial arts abilities', 0, 54, 52, 55]]]]\n",
      "**************************************************\n",
      "After witnessing the murder of his parents Thomas Wayne and Martha Wayne as a child, he swore revenge on criminals, an oath tempered by a sense of justice.A large assortment of villains make up Batman's rogues gallery, including his archenemy, the Joker\n",
      "[[[[u'he', 0, 16, 16, 17], [u'his', 0, 5, 5, 6]], [[u'his', 0, 42, 42, 43], [u'his', 0, 5, 5, 6]]]]\n",
      "**************************************************\n",
      "After witnessing the murder of his parents Thomas Wayne and Martha Wayne as a child, he swore revenge on criminals, an oath tempered by a sense of justice.Batman became popular soon after his introduction in 1939 and gained his own comic book title, Batman, the following year\n",
      "[[[[u'he', 0, 16, 16, 17], [u'his', 0, 5, 5, 6]], [[u'his', 0, 34, 34, 35], [u'his', 0, 5, 5, 6]], [[u'his', 0, 40, 40, 41], [u'his', 0, 5, 5, 6]]]]\n",
      "**************************************************\n",
      "After witnessing the murder of his parents Thomas Wayne and Martha Wayne as a child, he swore revenge on criminals, an oath tempered by a sense of justice.\n",
      "[[[[u'he', 0, 16, 16, 17], [u'his', 0, 5, 5, 6]]]]\n",
      "**************************************************\n",
      "Wayne trains himself physically and intellectually and crafts a bat-inspired persona to fight crime.The character was created by artist Bob Kane and writer Bill Finger, and first appeared in Detective Comics #27 (May 1939)\n",
      "[[[[u'himself', 0, 2, 2, 3], [u'Wayne', 0, 0, 0, 1]]]]\n",
      "**************************************************\n",
      "Wayne trains himself physically and intellectually and crafts a bat-inspired persona to fight crime.Originally named the \"Bat-Man\", the character is also referred to by such epithets as the Caped Crusader, the Dark Knight, and the World's Greatest Detective\n",
      "[[[[u'himself', 0, 2, 2, 3], [u'Wayne', 0, 0, 0, 1]]]]\n",
      "**************************************************\n",
      "Wayne trains himself physically and intellectually and crafts a bat-inspired persona to fight crime.Batman's secret identity is Bruce Wayne, an American billionaire, playboy, philanthropist, and owner of Wayne Enterprises\n",
      "[[[[u'Wayne', 0, 0, 0, 1], [u'Bruce Wayne', 0, 19, 18, 20]], [[u'himself', 0, 2, 2, 3], [u'Bruce Wayne', 0, 19, 18, 20]]]]\n",
      "**************************************************\n",
      "Wayne trains himself physically and intellectually and crafts a bat-inspired persona to fight crime.After witnessing the murder of his parents Thomas Wayne and Martha Wayne as a child, he swore revenge on criminals, an oath tempered by a sense of justice\n",
      "[[[[u'Wayne', 0, 0, 0, 1], [u'Thomas Wayne', 0, 21, 20, 22]], [[u'himself', 0, 2, 2, 3], [u'Thomas Wayne', 0, 21, 20, 22]], [[u'his', 0, 18, 18, 19], [u'Thomas Wayne', 0, 21, 20, 22]], [[u'he', 0, 29, 29, 30], [u'Thomas Wayne', 0, 21, 20, 22]]]]\n",
      "**************************************************\n",
      "Wayne trains himself physically and intellectually and crafts a bat-inspired persona to fight crime.Wayne trains himself physically and intellectually and crafts a bat-inspired persona to fight crime\n",
      "[[[[u'himself', 0, 2, 2, 3], [u'Wayne', 0, 0, 0, 1]], [[u'himself', 0, 15, 15, 16], [u'Wayne', 0, 0, 0, 1]]]]\n",
      "**************************************************\n",
      "Wayne trains himself physically and intellectually and crafts a bat-inspired persona to fight crime.Batman operates in the fictional Gotham City, with assistance from various supporting characters, including his butler Alfred, police commissioner Jim Gordon, and vigilante allies such as Robin\n",
      "[[[[u'himself', 0, 2, 2, 3], [u'Wayne', 0, 0, 0, 1]]], [[[u'his', 0, 29, 29, 30], [u'crime.Batman', 0, 13, 13, 14]]]]\n",
      "**************************************************\n",
      "Wayne trains himself physically and intellectually and crafts a bat-inspired persona to fight crime.Unlike most superheroes, Batman does not possess any superpowers; rather, he relies on his genius intellect, physical prowess, martial arts abilities, detective skills, science and technology, vast wealth, intimidation, and indomitable will\n",
      "[[[[u'himself', 0, 2, 2, 3], [u'Wayne', 0, 0, 0, 1]]], [[[u'he', 0, 26, 26, 27], [u'Batman', 0, 17, 17, 18]], [[u'his', 0, 29, 29, 30], [u'Batman', 0, 17, 17, 18]]], [[[u'science and technology', 0, 43, 43, 46], [u'martial arts abilities', 0, 38, 36, 39]]]]\n",
      "**************************************************\n",
      "Wayne trains himself physically and intellectually and crafts a bat-inspired persona to fight crime.A large assortment of villains make up Batman's rogues gallery, including his archenemy, the Joker\n",
      "[[[[u'himself', 0, 2, 2, 3], [u'Wayne', 0, 0, 0, 1]]], [[[u'his', 0, 26, 26, 27], [u\"Batman 's\", 0, 20, 20, 22]]], [[[u'his archenemy', 0, 27, 26, 28], [u'the Joker', 0, 30, 29, 31]]]]\n",
      "**************************************************\n",
      "Wayne trains himself physically and intellectually and crafts a bat-inspired persona to fight crime.Batman became popular soon after his introduction in 1939 and gained his own comic book title, Batman, the following year\n",
      "[[[[u'himself', 0, 2, 2, 3], [u'Wayne', 0, 0, 0, 1]], [[u'his', 0, 18, 18, 19], [u'Wayne', 0, 0, 0, 1]], [[u'his', 0, 24, 24, 25], [u'Wayne', 0, 0, 0, 1]]]]\n",
      "**************************************************\n",
      "Wayne trains himself physically and intellectually and crafts a bat-inspired persona to fight crime.\n",
      "[[[[u'himself', 0, 2, 2, 3], [u'Wayne', 0, 0, 0, 1]]]]\n",
      "**************************************************\n",
      "Batman operates in the fictional Gotham City, with assistance from various supporting characters, including his butler Alfred, police commissioner Jim Gordon, and vigilante allies such as Robin.The character was created by artist Bob Kane and writer Bill Finger, and first appeared in Detective Comics #27 (May 1939)\n",
      "[[[[u'his', 0, 16, 16, 17], [u'Batman', 0, 0, 0, 1]]]]\n",
      "**************************************************\n",
      "Batman operates in the fictional Gotham City, with assistance from various supporting characters, including his butler Alfred, police commissioner Jim Gordon, and vigilante allies such as Robin.Originally named the \"Bat-Man\", the character is also referred to by such epithets as the Caped Crusader, the Dark Knight, and the World's Greatest Detective\n",
      "[[[[u'his', 0, 16, 16, 17], [u'Batman', 0, 0, 0, 1]]], [[[u'the character', 0, 38, 37, 39], [u\"the `` Bat-Man ''\", 0, 34, 32, 36]]]]\n",
      "**************************************************\n",
      "Batman operates in the fictional Gotham City, with assistance from various supporting characters, including his butler Alfred, police commissioner Jim Gordon, and vigilante allies such as Robin.Batman's secret identity is Bruce Wayne, an American billionaire, playboy, philanthropist, and owner of Wayne Enterprises\n",
      "[[[[u'his', 0, 16, 16, 17], [u'Batman', 0, 0, 0, 1]]], [[[u\"vigilante allies such as Robin.Batman 's secret identity\", 0, 27, 26, 34], [u'Bruce Wayne', 0, 36, 35, 37]], [[u'Bruce Wayne , an American billionaire , playboy , philanthropist , and owner of Wayne Enterprises', 0, 36, 35, 51], [u'Bruce Wayne', 0, 36, 35, 37]]]]\n",
      "**************************************************\n",
      "Batman operates in the fictional Gotham City, with assistance from various supporting characters, including his butler Alfred, police commissioner Jim Gordon, and vigilante allies such as Robin.After witnessing the murder of his parents Thomas Wayne and Martha Wayne as a child, he swore revenge on criminals, an oath tempered by a sense of justice\n",
      "[[[[u'his', 0, 16, 16, 17], [u'Alfred', 0, 18, 18, 19]], [[u'his', 0, 35, 35, 36], [u'Alfred', 0, 18, 18, 19]], [[u'he', 0, 46, 46, 47], [u'Alfred', 0, 18, 18, 19]]]]\n",
      "**************************************************\n",
      "Batman operates in the fictional Gotham City, with assistance from various supporting characters, including his butler Alfred, police commissioner Jim Gordon, and vigilante allies such as Robin.Wayne trains himself physically and intellectually and crafts a bat-inspired persona to fight crime\n",
      "[[[[u'his', 0, 16, 16, 17], [u'Alfred', 0, 18, 18, 19]], [[u'himself', 0, 32, 32, 33], [u'Alfred', 0, 18, 18, 19]]]]\n",
      "**************************************************\n",
      "Batman operates in the fictional Gotham City, with assistance from various supporting characters, including his butler Alfred, police commissioner Jim Gordon, and vigilante allies such as Robin.Batman operates in the fictional Gotham City, with assistance from various supporting characters, including his butler Alfred, police commissioner Jim Gordon, and vigilante allies such as Robin\n",
      "[[[[u'vigilante allies such as Robin', 0, 57, 56, 61], [u'vigilante allies such as Robin.Batman', 0, 27, 26, 31]]], [[[u'police commissioner Jim Gordon', 0, 53, 50, 54], [u'police commissioner Jim Gordon', 0, 23, 20, 24]]], [[[u'his', 0, 16, 16, 17], [u'Batman', 0, 0, 0, 1]]], [[[u'Gotham City', 0, 36, 35, 37], [u'Gotham City', 0, 6, 5, 7]]], [[[u'his', 0, 46, 46, 47], [u'Alfred', 0, 18, 18, 19]], [[u'Alfred', 0, 48, 48, 49], [u'Alfred', 0, 18, 18, 19]]], [[[u'Jim Gordon', 0, 53, 52, 54], [u'Jim Gordon', 0, 23, 22, 24]]], [[[u'the fictional Gotham City', 0, 36, 33, 37], [u'the fictional Gotham City', 0, 6, 3, 7]]], [[[u'assistance from various supporting characters , including his butler Alfred , police commissioner Jim Gordon', 0, 9, 9, 24], [u'assistance from various supporting characters , including his butler Alfred , police commissioner Jim Gordon , and vigilante allies such as Robin', 0, 39, 39, 61]]], [[[u'various supporting characters , including his butler Alfred , police commissioner Jim Gordon', 0, 13, 11, 24], [u'various supporting characters , including his butler Alfred , police commissioner Jim Gordon , and vigilante allies such as Robin', 0, 43, 41, 61]], [[u'various supporting characters', 0, 13, 11, 14], [u'various supporting characters , including his butler Alfred , police commissioner Jim Gordon , and vigilante allies such as Robin', 0, 43, 41, 61]], [[u'various supporting characters', 0, 43, 41, 44], [u'various supporting characters , including his butler Alfred , police commissioner Jim Gordon , and vigilante allies such as Robin', 0, 43, 41, 61]]], [[[u'his butler Alfred', 0, 48, 46, 49], [u'his butler Alfred', 0, 18, 16, 19]]]]\n",
      "**************************************************\n",
      "Batman operates in the fictional Gotham City, with assistance from various supporting characters, including his butler Alfred, police commissioner Jim Gordon, and vigilante allies such as Robin.Unlike most superheroes, Batman does not possess any superpowers; rather, he relies on his genius intellect, physical prowess, martial arts abilities, detective skills, science and technology, vast wealth, intimidation, and indomitable will\n",
      "[[[[u'his', 0, 16, 16, 17], [u'Batman', 0, 0, 0, 1]], [[u'Batman', 0, 34, 34, 35], [u'Batman', 0, 0, 0, 1]], [[u'he', 0, 43, 43, 44], [u'Batman', 0, 0, 0, 1]], [[u'his', 0, 46, 46, 47], [u'Batman', 0, 0, 0, 1]]], [[[u'science and technology', 0, 60, 60, 63], [u'martial arts abilities', 0, 55, 53, 56]]]]\n",
      "**************************************************\n",
      "Batman operates in the fictional Gotham City, with assistance from various supporting characters, including his butler Alfred, police commissioner Jim Gordon, and vigilante allies such as Robin.A large assortment of villains make up Batman's rogues gallery, including his archenemy, the Joker\n",
      "[[[[u'Batman', 0, 0, 0, 1], [u\"Batman 's\", 0, 37, 37, 39]], [[u'his', 0, 16, 16, 17], [u\"Batman 's\", 0, 37, 37, 39]], [[u'his', 0, 43, 43, 44], [u\"Batman 's\", 0, 37, 37, 39]]]]\n",
      "**************************************************\n",
      "Batman operates in the fictional Gotham City, with assistance from various supporting characters, including his butler Alfred, police commissioner Jim Gordon, and vigilante allies such as Robin.Batman became popular soon after his introduction in 1939 and gained his own comic book title, Batman, the following year\n",
      "[[[[u'his', 0, 16, 16, 17], [u'Batman', 0, 0, 0, 1]], [[u'his', 0, 35, 35, 36], [u'Batman', 0, 0, 0, 1]], [[u'his', 0, 41, 41, 42], [u'Batman', 0, 0, 0, 1]], [[u'Batman', 0, 47, 47, 48], [u'Batman', 0, 0, 0, 1]]]]\n",
      "**************************************************\n",
      "Batman operates in the fictional Gotham City, with assistance from various supporting characters, including his butler Alfred, police commissioner Jim Gordon, and vigilante allies such as Robin.\n",
      "[[[[u'his', 0, 16, 16, 17], [u'Batman', 0, 0, 0, 1]]]]\n",
      "**************************************************\n",
      "Unlike most superheroes, Batman does not possess any superpowers; rather, he relies on his genius intellect, physical prowess, martial arts abilities, detective skills, science and technology, vast wealth, intimidation, and indomitable will.The character was created by artist Bob Kane and writer Bill Finger, and first appeared in Detective Comics #27 (May 1939)\n",
      "[[[[u'he', 0, 13, 13, 14], [u'Batman', 0, 4, 4, 5]], [[u'his', 0, 16, 16, 17], [u'Batman', 0, 4, 4, 5]]], [[[u'science and technology', 0, 30, 30, 33], [u'martial arts abilities', 0, 25, 23, 26]]]]\n",
      "**************************************************\n",
      "Unlike most superheroes, Batman does not possess any superpowers; rather, he relies on his genius intellect, physical prowess, martial arts abilities, detective skills, science and technology, vast wealth, intimidation, and indomitable will.Originally named the \"Bat-Man\", the character is also referred to by such epithets as the Caped Crusader, the Dark Knight, and the World's Greatest Detective\n",
      "[[[[u'he', 0, 13, 13, 14], [u'Batman', 0, 4, 4, 5]], [[u'his', 0, 16, 16, 17], [u'Batman', 0, 4, 4, 5]]], [[[u'science and technology', 0, 30, 30, 33], [u'martial arts abilities', 0, 25, 23, 26]], [[u'indomitable', 0, 40, 40, 41], [u'martial arts abilities', 0, 25, 23, 26]]]]\n",
      "**************************************************\n",
      "Unlike most superheroes, Batman does not possess any superpowers; rather, he relies on his genius intellect, physical prowess, martial arts abilities, detective skills, science and technology, vast wealth, intimidation, and indomitable will.Batman's secret identity is Bruce Wayne, an American billionaire, playboy, philanthropist, and owner of Wayne Enterprises\n",
      "[[[[u'he', 0, 13, 13, 14], [u'Batman', 0, 4, 4, 5]], [[u'his', 0, 16, 16, 17], [u'Batman', 0, 4, 4, 5]]], [[[u'science and technology', 0, 30, 30, 33], [u'martial arts abilities', 0, 25, 23, 26]]]]\n",
      "**************************************************\n",
      "Unlike most superheroes, Batman does not possess any superpowers; rather, he relies on his genius intellect, physical prowess, martial arts abilities, detective skills, science and technology, vast wealth, intimidation, and indomitable will.After witnessing the murder of his parents Thomas Wayne and Martha Wayne as a child, he swore revenge on criminals, an oath tempered by a sense of justice\n",
      "[[[[u'he', 0, 13, 13, 14], [u'Batman', 0, 4, 4, 5]], [[u'his', 0, 16, 16, 17], [u'Batman', 0, 4, 4, 5]], [[u'his', 0, 46, 46, 47], [u'Batman', 0, 4, 4, 5]], [[u'he', 0, 57, 57, 58], [u'Batman', 0, 4, 4, 5]]], [[[u'science and technology', 0, 30, 30, 33], [u'martial arts abilities', 0, 25, 23, 26]]]]\n",
      "**************************************************\n",
      "Unlike most superheroes, Batman does not possess any superpowers; rather, he relies on his genius intellect, physical prowess, martial arts abilities, detective skills, science and technology, vast wealth, intimidation, and indomitable will.Wayne trains himself physically and intellectually and crafts a bat-inspired persona to fight crime\n",
      "[[[[u'he', 0, 13, 13, 14], [u'Batman', 0, 4, 4, 5]], [[u'his', 0, 16, 16, 17], [u'Batman', 0, 4, 4, 5]], [[u'himself physically', 0, 43, 43, 45], [u'Batman', 0, 4, 4, 5]]], [[[u'science and technology', 0, 30, 30, 33], [u'martial arts abilities', 0, 25, 23, 26]], [[u'indomitable will.Wayne trains', 0, 42, 40, 43], [u'martial arts abilities', 0, 25, 23, 26]]]]\n",
      "**************************************************\n",
      "Unlike most superheroes, Batman does not possess any superpowers; rather, he relies on his genius intellect, physical prowess, martial arts abilities, detective skills, science and technology, vast wealth, intimidation, and indomitable will.Batman operates in the fictional Gotham City, with assistance from various supporting characters, including his butler Alfred, police commissioner Jim Gordon, and vigilante allies such as Robin\n",
      "[[[[u'he', 0, 13, 13, 14], [u'Batman', 0, 4, 4, 5]], [[u'his', 0, 16, 16, 17], [u'Batman', 0, 4, 4, 5]]], [[[u'his', 0, 57, 57, 58], [u'Alfred', 0, 59, 59, 60]]], [[[u'science and technology', 0, 30, 30, 33], [u'martial arts abilities', 0, 25, 23, 26]]]]\n",
      "**************************************************\n",
      "Unlike most superheroes, Batman does not possess any superpowers; rather, he relies on his genius intellect, physical prowess, martial arts abilities, detective skills, science and technology, vast wealth, intimidation, and indomitable will.Unlike most superheroes, Batman does not possess any superpowers; rather, he relies on his genius intellect, physical prowess, martial arts abilities, detective skills, science and technology, vast wealth, intimidation, and indomitable will\n",
      "[[[[u'he', 0, 13, 13, 14], [u'Batman', 0, 4, 4, 5]], [[u'his', 0, 16, 16, 17], [u'Batman', 0, 4, 4, 5]], [[u'Batman', 0, 45, 45, 46], [u'Batman', 0, 4, 4, 5]], [[u'he', 0, 54, 54, 55], [u'Batman', 0, 4, 4, 5]], [[u'his', 0, 57, 57, 58], [u'Batman', 0, 4, 4, 5]]], [[[u'superheroes', 0, 43, 43, 44], [u'most superheroes', 0, 2, 1, 3]]], [[[u'his genius intellect , physical prowess , martial arts abilities , detective skills , science and technology , vast wealth , intimidation', 0, 59, 57, 79], [u'his genius intellect , physical prowess , martial arts abilities , detective skills , science and technology , vast wealth , intimidation , and indomitable will.Unlike most superheroes', 0, 18, 16, 44]]], [[[u'his genius intellect', 0, 59, 57, 60], [u'his genius intellect', 0, 18, 16, 19]]], [[[u'detective skills', 0, 28, 27, 29], [u'martial arts abilities', 0, 25, 23, 26]], [[u'science and technology', 0, 30, 30, 33], [u'martial arts abilities', 0, 25, 23, 26]], [[u'indomitable will.Unlike most superheroes', 0, 41, 40, 44], [u'martial arts abilities', 0, 25, 23, 26]], [[u'martial arts abilities', 0, 66, 64, 67], [u'martial arts abilities', 0, 25, 23, 26]], [[u'detective skills', 0, 69, 68, 70], [u'martial arts abilities', 0, 25, 23, 26]], [[u'science and technology', 0, 71, 71, 74], [u'martial arts abilities', 0, 25, 23, 26]], [[u'indomitable', 0, 81, 81, 82], [u'martial arts abilities', 0, 25, 23, 26]]]]\n",
      "**************************************************\n",
      "Unlike most superheroes, Batman does not possess any superpowers; rather, he relies on his genius intellect, physical prowess, martial arts abilities, detective skills, science and technology, vast wealth, intimidation, and indomitable will.A large assortment of villains make up Batman's rogues gallery, including his archenemy, the Joker\n",
      "[[[[u'Batman', 0, 4, 4, 5], [u\"Batman 's\", 0, 48, 48, 50]], [[u'he', 0, 13, 13, 14], [u\"Batman 's\", 0, 48, 48, 50]], [[u'his', 0, 16, 16, 17], [u\"Batman 's\", 0, 48, 48, 50]], [[u'his', 0, 54, 54, 55], [u\"Batman 's\", 0, 48, 48, 50]]], [[[u'science and technology', 0, 30, 30, 33], [u'martial arts abilities', 0, 25, 23, 26]]]]\n",
      "**************************************************\n",
      "Unlike most superheroes, Batman does not possess any superpowers; rather, he relies on his genius intellect, physical prowess, martial arts abilities, detective skills, science and technology, vast wealth, intimidation, and indomitable will.Batman became popular soon after his introduction in 1939 and gained his own comic book title, Batman, the following year\n",
      "[[[[u'he', 0, 13, 13, 14], [u'Batman', 0, 4, 4, 5]], [[u'his', 0, 16, 16, 17], [u'Batman', 0, 4, 4, 5]], [[u'his', 0, 46, 46, 47], [u'Batman', 0, 4, 4, 5]], [[u'his', 0, 52, 52, 53], [u'Batman', 0, 4, 4, 5]], [[u'Batman', 0, 58, 58, 59], [u'Batman', 0, 4, 4, 5]]], [[[u'science and technology', 0, 30, 30, 33], [u'martial arts abilities', 0, 25, 23, 26]]]]\n",
      "**************************************************\n",
      "Unlike most superheroes, Batman does not possess any superpowers; rather, he relies on his genius intellect, physical prowess, martial arts abilities, detective skills, science and technology, vast wealth, intimidation, and indomitable will.\n",
      "[[[[u'he', 0, 13, 13, 14], [u'Batman', 0, 4, 4, 5]], [[u'his', 0, 16, 16, 17], [u'Batman', 0, 4, 4, 5]]], [[[u'science and technology', 0, 30, 30, 33], [u'martial arts abilities', 0, 25, 23, 26]]]]\n",
      "**************************************************\n",
      "A large assortment of villains make up Batman's rogues gallery, including his archenemy, the Joker.The character was created by artist Bob Kane and writer Bill Finger, and first appeared in Detective Comics #27 (May 1939)\n",
      "[[[[u'his', 0, 13, 13, 14], [u\"Batman 's\", 0, 7, 7, 9]]], [[[u'his archenemy', 0, 14, 13, 15], [u'the Joker.The character was created by artist Bob Kane and writer Bill Finger', 0, 18, 16, 29]]]]\n",
      "**************************************************\n",
      "A large assortment of villains make up Batman's rogues gallery, including his archenemy, the Joker.Originally named the \"Bat-Man\", the character is also referred to by such epithets as the Caped Crusader, the Dark Knight, and the World's Greatest Detective\n",
      "[[[[u'his', 0, 13, 13, 14], [u\"Batman 's\", 0, 7, 7, 9]]], [[[u'the character', 0, 25, 24, 26], [u\"the `` Bat-Man ''\", 0, 21, 19, 23]]]]\n",
      "**************************************************\n",
      "A large assortment of villains make up Batman's rogues gallery, including his archenemy, the Joker.Batman's secret identity is Bruce Wayne, an American billionaire, playboy, philanthropist, and owner of Wayne Enterprises\n",
      "[[[[u'his', 0, 13, 13, 14], [u\"Batman 's\", 0, 7, 7, 9]]]]\n",
      "**************************************************\n",
      "A large assortment of villains make up Batman's rogues gallery, including his archenemy, the Joker.After witnessing the murder of his parents Thomas Wayne and Martha Wayne as a child, he swore revenge on criminals, an oath tempered by a sense of justice\n",
      "[[[[u'his', 0, 13, 13, 14], [u\"Batman 's\", 0, 7, 7, 9]], [[u'his', 0, 22, 22, 23], [u\"Batman 's\", 0, 7, 7, 9]], [[u'he', 0, 33, 33, 34], [u\"Batman 's\", 0, 7, 7, 9]]], [[[u'his archenemy', 0, 14, 13, 15], [u'the Joker.After witnessing the murder of his parents Thomas Wayne and Martha Wayne as a child', 0, 17, 16, 32]]]]\n",
      "**************************************************\n",
      "A large assortment of villains make up Batman's rogues gallery, including his archenemy, the Joker.Wayne trains himself physically and intellectually and crafts a bat-inspired persona to fight crime\n",
      "[[[[u'his', 0, 13, 13, 14], [u\"Batman 's\", 0, 7, 7, 9]], [[u'himself', 0, 19, 19, 20], [u\"Batman 's\", 0, 7, 7, 9]]]]\n",
      "**************************************************\n",
      "A large assortment of villains make up Batman's rogues gallery, including his archenemy, the Joker.Batman operates in the fictional Gotham City, with assistance from various supporting characters, including his butler Alfred, police commissioner Jim Gordon, and vigilante allies such as Robin\n",
      "[[[[u'his', 0, 13, 13, 14], [u\"Batman 's\", 0, 7, 7, 9]], [[u'his', 0, 33, 33, 34], [u\"Batman 's\", 0, 7, 7, 9]]]]\n",
      "**************************************************\n",
      "A large assortment of villains make up Batman's rogues gallery, including his archenemy, the Joker.Unlike most superheroes, Batman does not possess any superpowers; rather, he relies on his genius intellect, physical prowess, martial arts abilities, detective skills, science and technology, vast wealth, intimidation, and indomitable will\n",
      "[[[[u'his', 0, 13, 13, 14], [u\"Batman 's\", 0, 7, 7, 9]], [[u'Batman', 0, 21, 21, 22], [u\"Batman 's\", 0, 7, 7, 9]], [[u'he', 0, 30, 30, 31], [u\"Batman 's\", 0, 7, 7, 9]], [[u'his', 0, 33, 33, 34], [u\"Batman 's\", 0, 7, 7, 9]]], [[[u'science and technology', 0, 47, 47, 50], [u'martial arts abilities', 0, 42, 40, 43]]]]\n",
      "**************************************************\n",
      "A large assortment of villains make up Batman's rogues gallery, including his archenemy, the Joker.A large assortment of villains make up Batman's rogues gallery, including his archenemy, the Joker\n",
      "[[[[u'his', 0, 13, 13, 14], [u\"Batman 's\", 0, 7, 7, 9]], [[u\"Batman 's\", 0, 24, 24, 26], [u\"Batman 's\", 0, 7, 7, 9]], [[u'his', 0, 30, 30, 31], [u\"Batman 's\", 0, 7, 7, 9]]], [[[u'villains', 0, 21, 21, 22], [u'villains', 0, 4, 4, 5]]], [[[u\"Batman 's rogues gallery\", 0, 10, 7, 11], [u\"Batman 's rogues gallery , including his archenemy\", 0, 27, 24, 32]], [[u\"Batman 's rogues gallery\", 0, 27, 24, 28], [u\"Batman 's rogues gallery , including his archenemy\", 0, 27, 24, 32]]], [[[u'his archenemy', 0, 31, 30, 32], [u'his archenemy', 0, 14, 13, 15]]]]\n",
      "**************************************************\n",
      "A large assortment of villains make up Batman's rogues gallery, including his archenemy, the Joker.Batman became popular soon after his introduction in 1939 and gained his own comic book title, Batman, the following year\n",
      "[[[[u'his', 0, 13, 13, 14], [u\"Batman 's\", 0, 7, 7, 9]], [[u'his', 0, 28, 28, 29], [u\"Batman 's\", 0, 7, 7, 9]], [[u'Batman', 0, 34, 34, 35], [u\"Batman 's\", 0, 7, 7, 9]]], [[[u'his', 0, 22, 22, 23], [u'his archenemy', 0, 14, 13, 15]]]]\n",
      "**************************************************\n",
      "A large assortment of villains make up Batman's rogues gallery, including his archenemy, the Joker.\n",
      "[[[[u'his', 0, 13, 13, 14], [u\"Batman 's\", 0, 7, 7, 9]]], [[[u'his archenemy', 0, 14, 13, 15], [u'the Joker', 0, 17, 16, 18]]]]\n",
      "**************************************************\n",
      "Batman became popular soon after his introduction in 1939 and gained his own comic book title, Batman, the following year.The character was created by artist Bob Kane and writer Bill Finger, and first appeared in Detective Comics #27 (May 1939)\n",
      "[[[[u'Batman', 0, 0, 0, 1], [u'Batman , the following year.The character', 0, 17, 17, 23]], [[u'his', 0, 5, 5, 6], [u'Batman , the following year.The character', 0, 17, 17, 23]], [[u'his', 0, 11, 11, 12], [u'Batman , the following year.The character', 0, 17, 17, 23]], [[u'Batman', 0, 17, 17, 18], [u'Batman , the following year.The character', 0, 17, 17, 23]], [[u'the following year.The character', 0, 22, 19, 23], [u'Batman , the following year.The character', 0, 17, 17, 23]]]]\n",
      "**************************************************\n",
      "Batman became popular soon after his introduction in 1939 and gained his own comic book title, Batman, the following year.Originally named the \"Bat-Man\", the character is also referred to by such epithets as the Caped Crusader, the Dark Knight, and the World's Greatest Detective\n",
      "[[[[u'his', 0, 5, 5, 6], [u'Batman', 0, 0, 0, 1]], [[u'his', 0, 11, 11, 12], [u'Batman', 0, 0, 0, 1]], [[u'Batman', 0, 17, 17, 18], [u'Batman', 0, 0, 0, 1]]], [[[u'the character', 0, 29, 28, 30], [u\"the `` Bat-Man ''\", 0, 25, 23, 27]]]]\n",
      "**************************************************\n",
      "Batman became popular soon after his introduction in 1939 and gained his own comic book title, Batman, the following year.Batman's secret identity is Bruce Wayne, an American billionaire, playboy, philanthropist, and owner of Wayne Enterprises\n",
      "[[[[u'Batman', 0, 0, 0, 1], [u\"Batman , the following year.Batman 's secret identity\", 0, 17, 17, 25]], [[u'his', 0, 5, 5, 6], [u\"Batman , the following year.Batman 's secret identity\", 0, 17, 17, 25]], [[u'his', 0, 11, 11, 12], [u\"Batman , the following year.Batman 's secret identity\", 0, 17, 17, 25]], [[u'Batman', 0, 17, 17, 18], [u\"Batman , the following year.Batman 's secret identity\", 0, 17, 17, 25]]]]\n",
      "**************************************************\n",
      "Batman became popular soon after his introduction in 1939 and gained his own comic book title, Batman, the following year.After witnessing the murder of his parents Thomas Wayne and Martha Wayne as a child, he swore revenge on criminals, an oath tempered by a sense of justice\n",
      "[[[[u'his', 0, 5, 5, 6], [u'Batman', 0, 0, 0, 1]], [[u'his', 0, 11, 11, 12], [u'Batman', 0, 0, 0, 1]], [[u'Batman', 0, 17, 17, 18], [u'Batman', 0, 0, 0, 1]], [[u'his', 0, 26, 26, 27], [u'Batman', 0, 0, 0, 1]], [[u'he', 0, 37, 37, 38], [u'Batman', 0, 0, 0, 1]]]]\n",
      "**************************************************\n",
      "Batman became popular soon after his introduction in 1939 and gained his own comic book title, Batman, the following year.Wayne trains himself physically and intellectually and crafts a bat-inspired persona to fight crime\n",
      "[[[[u'his', 0, 5, 5, 6], [u'Batman', 0, 0, 0, 1]], [[u'his', 0, 11, 11, 12], [u'Batman', 0, 0, 0, 1]], [[u'Batman', 0, 17, 17, 18], [u'Batman', 0, 0, 0, 1]], [[u'himself', 0, 23, 23, 24], [u'Batman', 0, 0, 0, 1]]]]\n",
      "**************************************************\n",
      "Batman became popular soon after his introduction in 1939 and gained his own comic book title, Batman, the following year.Batman operates in the fictional Gotham City, with assistance from various supporting characters, including his butler Alfred, police commissioner Jim Gordon, and vigilante allies such as Robin\n",
      "[[[[u'Batman', 0, 0, 0, 1], [u'Batman , the following year.Batman', 0, 17, 17, 22]], [[u'his', 0, 5, 5, 6], [u'Batman , the following year.Batman', 0, 17, 17, 22]], [[u'his', 0, 11, 11, 12], [u'Batman , the following year.Batman', 0, 17, 17, 22]], [[u'Batman', 0, 17, 17, 18], [u'Batman , the following year.Batman', 0, 17, 17, 22]], [[u'the following year.Batman', 0, 21, 19, 22], [u'Batman , the following year.Batman', 0, 17, 17, 22]], [[u'his', 0, 37, 37, 38], [u'Batman , the following year.Batman', 0, 17, 17, 22]]]]\n",
      "**************************************************\n",
      "Batman became popular soon after his introduction in 1939 and gained his own comic book title, Batman, the following year.Unlike most superheroes, Batman does not possess any superpowers; rather, he relies on his genius intellect, physical prowess, martial arts abilities, detective skills, science and technology, vast wealth, intimidation, and indomitable will\n",
      "[[[[u'his', 0, 5, 5, 6], [u'Batman', 0, 0, 0, 1]], [[u'his', 0, 11, 11, 12], [u'Batman', 0, 0, 0, 1]], [[u'Batman', 0, 17, 17, 18], [u'Batman', 0, 0, 0, 1]], [[u'Batman', 0, 25, 25, 26], [u'Batman', 0, 0, 0, 1]], [[u'he', 0, 34, 34, 35], [u'Batman', 0, 0, 0, 1]], [[u'his', 0, 37, 37, 38], [u'Batman', 0, 0, 0, 1]]], [[[u'science and technology', 0, 51, 51, 54], [u'martial arts abilities', 0, 46, 44, 47]], [[u'indomitable', 0, 61, 61, 62], [u'martial arts abilities', 0, 46, 44, 47]]]]\n",
      "**************************************************\n",
      "Batman became popular soon after his introduction in 1939 and gained his own comic book title, Batman, the following year.A large assortment of villains make up Batman's rogues gallery, including his archenemy, the Joker\n",
      "[[[[u'Batman', 0, 0, 0, 1], [u\"Batman 's\", 0, 28, 28, 30]], [[u'his', 0, 5, 5, 6], [u\"Batman 's\", 0, 28, 28, 30]], [[u'his', 0, 11, 11, 12], [u\"Batman 's\", 0, 28, 28, 30]], [[u'Batman', 0, 17, 17, 18], [u\"Batman 's\", 0, 28, 28, 30]], [[u'his', 0, 34, 34, 35], [u\"Batman 's\", 0, 28, 28, 30]]], [[[u'his archenemy', 0, 35, 34, 36], [u'the Joker', 0, 38, 37, 39]]]]\n",
      "**************************************************\n",
      "Batman became popular soon after his introduction in 1939 and gained his own comic book title, Batman, the following year.Batman became popular soon after his introduction in 1939 and gained his own comic book title, Batman, the following year\n",
      "[[[[u'Batman', 0, 0, 0, 1], [u'Batman , the following year.Batman', 0, 17, 17, 22]], [[u'his', 0, 5, 5, 6], [u'Batman , the following year.Batman', 0, 17, 17, 22]], [[u'his', 0, 11, 11, 12], [u'Batman , the following year.Batman', 0, 17, 17, 22]], [[u'Batman', 0, 17, 17, 18], [u'Batman , the following year.Batman', 0, 17, 17, 22]], [[u'the following year.Batman', 0, 21, 19, 22], [u'Batman , the following year.Batman', 0, 17, 17, 22]], [[u'his', 0, 26, 26, 27], [u'Batman , the following year.Batman', 0, 17, 17, 22]], [[u'his', 0, 32, 32, 33], [u'Batman , the following year.Batman', 0, 17, 17, 22]], [[u'Batman', 0, 38, 38, 39], [u'Batman , the following year.Batman', 0, 17, 17, 22]]], [[[u'his introduction in 1939', 0, 27, 26, 30], [u'his introduction in 1939', 0, 6, 5, 9]]], [[[u'1939', 0, 29, 29, 30], [u'1939', 0, 8, 8, 9]]], [[[u'his own comic book title', 0, 15, 11, 16], [u'his own comic book title , Batman , the following year.Batman', 0, 15, 11, 22]], [[u'his own comic book title , Batman', 0, 36, 32, 39], [u'his own comic book title , Batman , the following year.Batman', 0, 15, 11, 22]], [[u'his own comic book title', 0, 36, 32, 37], [u'his own comic book title , Batman , the following year.Batman', 0, 15, 11, 22]]]]\n",
      "**************************************************\n",
      "Batman became popular soon after his introduction in 1939 and gained his own comic book title, Batman, the following year.\n",
      "[[[[u'his', 0, 5, 5, 6], [u'Batman', 0, 0, 0, 1]], [[u'his', 0, 11, 11, 12], [u'Batman', 0, 0, 0, 1]], [[u'Batman', 0, 17, 17, 18], [u'Batman', 0, 0, 0, 1]]]]\n",
      "**************************************************\n",
      ".The character was created by artist Bob Kane and writer Bill Finger, and first appeared in Detective Comics #27 (May 1939)\n",
      "Coreference doesnt exists\n",
      ".Originally named the \"Bat-Man\", the character is also referred to by such epithets as the Caped Crusader, the Dark Knight, and the World's Greatest Detective\n",
      "Coreference doesnt exists\n",
      ".Batman's secret identity is Bruce Wayne, an American billionaire, playboy, philanthropist, and owner of Wayne Enterprises\n",
      "Coreference doesnt exists\n",
      ".After witnessing the murder of his parents Thomas Wayne and Martha Wayne as a child, he swore revenge on criminals, an oath tempered by a sense of justice\n",
      "[[[[u'his', 1, 5, 5, 6], [u'.', 0, 0, 0, 1]], [[u'he', 1, 16, 16, 17], [u'.', 0, 0, 0, 1]]]]\n",
      "**************************************************\n",
      ".Wayne trains himself physically and intellectually and crafts a bat-inspired persona to fight crime\n",
      "[[[[u'himself', 1, 2, 2, 3], [u'Wayne', 1, 0, 0, 1]]]]\n",
      "**************************************************\n",
      ".Batman operates in the fictional Gotham City, with assistance from various supporting characters, including his butler Alfred, police commissioner Jim Gordon, and vigilante allies such as Robin\n",
      "[[[[u'his', 1, 16, 16, 17], [u'Batman', 1, 0, 0, 1]]]]\n",
      "**************************************************\n",
      ".Unlike most superheroes, Batman does not possess any superpowers; rather, he relies on his genius intellect, physical prowess, martial arts abilities, detective skills, science and technology, vast wealth, intimidation, and indomitable will\n",
      "[[[[u'he', 1, 13, 13, 14], [u'Batman', 1, 4, 4, 5]], [[u'his', 1, 16, 16, 17], [u'Batman', 1, 4, 4, 5]]], [[[u'science and technology', 1, 30, 30, 33], [u'martial arts abilities', 1, 25, 23, 26]]]]\n",
      "**************************************************\n",
      ".A large assortment of villains make up Batman's rogues gallery, including his archenemy, the Joker\n",
      "[[[[u'his', 1, 13, 13, 14], [u\"Batman 's\", 1, 7, 7, 9]]], [[[u'his archenemy', 1, 14, 13, 15], [u'the Joker', 1, 17, 16, 18]]]]\n",
      "**************************************************\n",
      ".Batman became popular soon after his introduction in 1939 and gained his own comic book title, Batman, the following year\n",
      "[[[[u'his', 1, 5, 5, 6], [u'Batman', 1, 0, 0, 1]], [[u'his', 1, 11, 11, 12], [u'Batman', 1, 0, 0, 1]], [[u'Batman', 1, 17, 17, 18], [u'Batman', 1, 0, 0, 1]]]]\n",
      "**************************************************\n",
      ".\n",
      "Coreference doesnt exists\n"
     ]
    }
   ],
   "source": [
    "sents = string.split('.')\n",
    "for i in sents[0:]:\n",
    "    for j in sents[1:]:\n",
    "        string = i+'.'+j\n",
    "        print string\n",
    "        result = loads(server.parse(string))\n",
    "        try:\n",
    "            coreferences = result['coref']\n",
    "        except:\n",
    "            print 'Coreference doesnt exists'\n",
    "            continue\n",
    "        print coreferences\n",
    "        print '**************************************************'"
   ]
  },
  {
   "cell_type": "markdown",
   "metadata": {
    "collapsed": true
   },
   "source": [
    "### Idea behind Coreference Resolution\n",
    "We can compare each string with the every other string in the text and if there exists a coreference between those two strings we can cosntruct an edge between the two strings (or decrease the weight of the edge by some lambda). If two sentences have some coreference between them then they are closer to each other as can be depicted by the small weight between the nodes pertaining to those sentences.\n",
    "#### Challenges:\n",
    "1. Many of the sentences can have coreference between them thus many of the edges will get their weights minimized in general won't affect the behaviour of algorithm on the graph.\n",
    "2. Time complexity will increase further as the time taken to find coreference is O(n-squared) (considering parsing time to be constant)"
   ]
  },
  {
   "cell_type": "code",
   "execution_count": null,
   "metadata": {
    "collapsed": true
   },
   "outputs": [],
   "source": []
  }
 ],
 "metadata": {
  "kernelspec": {
   "display_name": "Python 2",
   "language": "python",
   "name": "python2"
  },
  "language_info": {
   "codemirror_mode": {
    "name": "ipython",
    "version": 2
   },
   "file_extension": ".py",
   "mimetype": "text/x-python",
   "name": "python",
   "nbconvert_exporter": "python",
   "pygments_lexer": "ipython2",
   "version": "2.7.11"
  }
 },
 "nbformat": 4,
 "nbformat_minor": 0
}
